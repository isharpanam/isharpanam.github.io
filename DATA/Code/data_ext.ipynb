{
 "cells": [
  {
   "cell_type": "code",
   "execution_count": 2,
   "id": "95845ea8",
   "metadata": {},
   "outputs": [],
   "source": [
    "import os"
   ]
  },
  {
   "cell_type": "code",
   "execution_count": 3,
   "id": "e8f2876c",
   "metadata": {},
   "outputs": [],
   "source": [
    "data_dir = r'J:\\Apps\\pojja_store\\public\\images'"
   ]
  },
  {
   "cell_type": "code",
   "execution_count": 19,
   "id": "5e385f88",
   "metadata": {},
   "outputs": [
    {
     "data": {
      "text/plain": [
       "<function len(obj, /)>"
      ]
     },
     "execution_count": 19,
     "metadata": {},
     "output_type": "execute_result"
    }
   ],
   "source": [
    "ids = [i.replace('.jpeg', '').replace('.png', '').replace('.jpg', '') for i in os.listdir(data_dir)]\n",
    "len"
   ]
  },
  {
   "cell_type": "code",
   "execution_count": 20,
   "id": "e812ae8e",
   "metadata": {},
   "outputs": [
    {
     "data": {
      "text/plain": [
       "['/images/aashapura_manu_vart.jpeg',\n",
       " '/images/aevrat_jivan_vart.jpeg',\n",
       " '/images/amashnu_vart.jpeg',\n",
       " '/images/annpurna_manu_vart.jpeg',\n",
       " '/images/Bol chauth gaumata pooja.png',\n",
       " '/images/boy_mag.jpg',\n",
       " '/images/bramani_manu_vart.jpeg',\n",
       " '/images/butbhavani_manu_vart.jpeg',\n",
       " '/images/chamunda_manu_vart.jpeg',\n",
       " '/images/chehar_manu_vart.jpeg',\n",
       " '/images/Dashamaa vrat .png',\n",
       " '/images/dashamani_vart.jpeg',\n",
       " '/images/Dhanlakshmi pooja.png',\n",
       " '/images/diwali.png',\n",
       " '/images/download (21).png',\n",
       " '/images/download (33).png',\n",
       " '/images/download (6).png',\n",
       " '/images/download (7).png',\n",
       " '/images/download (8).png',\n",
       " '/images/Evrat-Jivrat vrat.png',\n",
       " '/images/Ful-kajli vrat.png',\n",
       " '/images/Ganesh pooja.png',\n",
       " '/images/Gauri vrat (2).png',\n",
       " '/images/Gauri vrat.png',\n",
       " '/images/gayatri_vart.jpeg',\n",
       " '/images/Grahshanti_Grah pooja.png',\n",
       " '/images/griha-pravesh-muhurat.jpg',\n",
       " '/images/Gruh-pravesh pooja.png',\n",
       " '/images/hingda_manu_vart.jpeg',\n",
       " '/images/Jaya-Parvati vrat.png',\n",
       " '/images/jivan_vart.jpeg',\n",
       " '/images/Kalsarp vidhhan.png',\n",
       " '/images/Kevda trij vrat.png',\n",
       " '/images/khodiyat_ma_vart.jpeg',\n",
       " '/images/Krishna pooja.png',\n",
       " '/images/logo.png',\n",
       " '/images/mahakali_manu_vart.jpeg',\n",
       " '/images/mahalakshmi.jpeg',\n",
       " '/images/ma_harsisdhi_vart.jpeg',\n",
       " '/images/Meldi mata vrat.png',\n",
       " '/images/meldi_ma_nu_vart.jpeg',\n",
       " '/images/Nakshtra vidhhan.png',\n",
       " '/images/Navchandi home.png',\n",
       " '/images/Navratri vrat.png',\n",
       " '/images/navratri.png',\n",
       " '/images/pavitra_aekadsi.jpeg',\n",
       " '/images/Pind karm pooja.png',\n",
       " '/images/Pitru shraddh pooja.png',\n",
       " '/images/randal_manu_vart.jpeg',\n",
       " '/images/Saibaba vrat.png',\n",
       " '/images/Santoshi mata vrat.png',\n",
       " '/images/santoshi_manu_vart.jpeg',\n",
       " '/images/Satyanarayan_pooja.png',\n",
       " '/images/shiradivada_vart.jpeg',\n",
       " '/images/Shiv Pooja.png',\n",
       " '/images/Shrimad Bhagvat pooja.png',\n",
       " '/images/sol_somvarnu_vart.jpeg',\n",
       " '/images/Vad-savitri vrat.png',\n",
       " '/images/vaibhalashmi_vart.jpeg',\n",
       " '/images/vatshathi_vart.jpeg',\n",
       " '/images/Vishesh pooja.png',\n",
       " '/images/Vishnuyag pooja.png']"
      ]
     },
     "execution_count": 20,
     "metadata": {},
     "output_type": "execute_result"
    }
   ],
   "source": [
    "file_paths = [ \"/images/\" + i  for i in os.listdir(data_dir)]\n",
    "file_paths"
   ]
  },
  {
   "cell_type": "code",
   "execution_count": 21,
   "id": "67657c9c",
   "metadata": {},
   "outputs": [],
   "source": [
    "images_dict = dict(zip(ids,file_paths))\n"
   ]
  },
  {
   "cell_type": "code",
   "execution_count": 26,
   "id": "15aa8c12",
   "metadata": {},
   "outputs": [
    {
     "name": "stdout",
     "output_type": "stream",
     "text": [
      "aashapura_manu_vart : '/images/aashapura_manu_vart.jpeg',\n",
      "aevrat_jivan_vart : '/images/aevrat_jivan_vart.jpeg',\n",
      "amashnu_vart : '/images/amashnu_vart.jpeg',\n",
      "annpurna_manu_vart : '/images/annpurna_manu_vart.jpeg',\n",
      "Bol_chauth_gaumata_pooja : '/images/Bol chauth gaumata pooja.png',\n",
      "boy_mag : '/images/boy_mag.jpg',\n",
      "bramani_manu_vart : '/images/bramani_manu_vart.jpeg',\n",
      "butbhavani_manu_vart : '/images/butbhavani_manu_vart.jpeg',\n",
      "chamunda_manu_vart : '/images/chamunda_manu_vart.jpeg',\n",
      "chehar_manu_vart : '/images/chehar_manu_vart.jpeg',\n",
      "Dashamaa_vrat_ : '/images/Dashamaa vrat .png',\n",
      "dashamani_vart : '/images/dashamani_vart.jpeg',\n",
      "Dhanlakshmi_pooja : '/images/Dhanlakshmi pooja.png',\n",
      "diwali : '/images/diwali.png',\n",
      "download_(21) : '/images/download (21).png',\n",
      "download_(33) : '/images/download (33).png',\n",
      "download_(6) : '/images/download (6).png',\n",
      "download_(7) : '/images/download (7).png',\n",
      "download_(8) : '/images/download (8).png',\n",
      "Evrat_Jivrat_vrat : '/images/Evrat-Jivrat vrat.png',\n",
      "Ful_kajli_vrat : '/images/Ful-kajli vrat.png',\n",
      "Ganesh_pooja : '/images/Ganesh pooja.png',\n",
      "Gauri_vrat_(2) : '/images/Gauri vrat (2).png',\n",
      "Gauri_vrat : '/images/Gauri vrat.png',\n",
      "gayatri_vart : '/images/gayatri_vart.jpeg',\n",
      "Grahshanti_Grah_pooja : '/images/Grahshanti_Grah pooja.png',\n",
      "griha_pravesh_muhurat : '/images/griha-pravesh-muhurat.jpg',\n",
      "Gruh_pravesh_pooja : '/images/Gruh-pravesh pooja.png',\n",
      "hingda_manu_vart : '/images/hingda_manu_vart.jpeg',\n",
      "Jaya_Parvati_vrat : '/images/Jaya-Parvati vrat.png',\n",
      "jivan_vart : '/images/jivan_vart.jpeg',\n",
      "Kalsarp_vidhhan : '/images/Kalsarp vidhhan.png',\n",
      "Kevda_trij_vrat : '/images/Kevda trij vrat.png',\n",
      "khodiyat_ma_vart : '/images/khodiyat_ma_vart.jpeg',\n",
      "Krishna_pooja : '/images/Krishna pooja.png',\n",
      "logo : '/images/logo.png',\n",
      "mahakali_manu_vart : '/images/mahakali_manu_vart.jpeg',\n",
      "mahalakshmi : '/images/mahalakshmi.jpeg',\n",
      "ma_harsisdhi_vart : '/images/ma_harsisdhi_vart.jpeg',\n",
      "Meldi_mata_vrat : '/images/Meldi mata vrat.png',\n",
      "meldi_ma_nu_vart : '/images/meldi_ma_nu_vart.jpeg',\n",
      "Nakshtra_vidhhan : '/images/Nakshtra vidhhan.png',\n",
      "Navchandi_home : '/images/Navchandi home.png',\n",
      "Navratri_vrat : '/images/Navratri vrat.png',\n",
      "navratri : '/images/navratri.png',\n",
      "pavitra_aekadsi : '/images/pavitra_aekadsi.jpeg',\n",
      "Pind_karm_pooja : '/images/Pind karm pooja.png',\n",
      "Pitru_shraddh_pooja : '/images/Pitru shraddh pooja.png',\n",
      "randal_manu_vart : '/images/randal_manu_vart.jpeg',\n",
      "Saibaba_vrat : '/images/Saibaba vrat.png',\n",
      "Santoshi_mata_vrat : '/images/Santoshi mata vrat.png',\n",
      "santoshi_manu_vart : '/images/santoshi_manu_vart.jpeg',\n",
      "Satyanarayan_pooja : '/images/Satyanarayan_pooja.png',\n",
      "shiradivada_vart : '/images/shiradivada_vart.jpeg',\n",
      "Shiv_Pooja : '/images/Shiv Pooja.png',\n",
      "Shrimad_Bhagvat_pooja : '/images/Shrimad Bhagvat pooja.png',\n",
      "sol_somvarnu_vart : '/images/sol_somvarnu_vart.jpeg',\n",
      "Vad_savitri_vrat : '/images/Vad-savitri vrat.png',\n",
      "vaibhalashmi_vart : '/images/vaibhalashmi_vart.jpeg',\n",
      "vatshathi_vart : '/images/vatshathi_vart.jpeg',\n",
      "Vishesh_pooja : '/images/Vishesh pooja.png',\n",
      "Vishnuyag_pooja : '/images/Vishnuyag pooja.png',\n"
     ]
    }
   ],
   "source": [
    "for key , value in images_dict.items():\n",
    "    print(f\"{key.replace(' ', '_').replace(' ', '_').replace('-', '_')} : '{value}',\")"
   ]
  },
  {
   "cell_type": "code",
   "execution_count": null,
   "id": "faf95959",
   "metadata": {},
   "outputs": [],
   "source": []
  }
 ],
 "metadata": {
  "kernelspec": {
   "display_name": "ai_exp",
   "language": "python",
   "name": "python3"
  },
  "language_info": {
   "codemirror_mode": {
    "name": "ipython",
    "version": 3
   },
   "file_extension": ".py",
   "mimetype": "text/x-python",
   "name": "python",
   "nbconvert_exporter": "python",
   "pygments_lexer": "ipython3",
   "version": "3.11.3"
  }
 },
 "nbformat": 4,
 "nbformat_minor": 5
}
